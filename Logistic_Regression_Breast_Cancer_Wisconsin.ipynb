{
  "nbformat": 4,
  "nbformat_minor": 0,
  "metadata": {
    "colab": {
      "name": "Logistic_Regression_Breast_Cancer_Wisconsin.ipynb",
      "provenance": [],
      "collapsed_sections": []
    },
    "kernelspec": {
      "name": "python3",
      "display_name": "Python 3"
    },
    "language_info": {
      "name": "python"
    }
  },
  "cells": [
    {
      "cell_type": "code",
      "metadata": {
        "colab": {
          "base_uri": "https://localhost:8080/",
          "height": 320
        },
        "id": "ei3-iQ7OGT-T",
        "outputId": "1901dcc2-cf5a-4f64-b59b-2efa22d16de5"
      },
      "source": [
        "import pandas as pd\n",
        "import numpy as np\n",
        "from sklearn.model_selection import train_test_split\n",
        "from sklearn.linear_model import LogisticRegression\n",
        "from sklearn.datasets import load_breast_cancer\n",
        "from sklearn.metrics import confusion_matrix\n",
        "import seaborn as sns; sns.set()\n",
        "import matplotlib.pyplot as plt\n",
        "\n",
        "X, y = load_breast_cancer(return_X_y=True)\n",
        "\n",
        "X_train, X_test, y_train, y_test = train_test_split(X, y, test_size=0.25, random_state=47)\n",
        "print(X_train.shape)\n",
        "\n",
        "log_model = LogisticRegression(random_state=0,max_iter=5000).fit(X_train, y_train)\n",
        "pred_y = log_model.predict(X_test)\n",
        "print(log_model.score(X_test, y_test))\n",
        "\n",
        "# Generating Confusion Matrix\n",
        "one_metro = confusion_matrix(pred_y, y_test)\n",
        "one_names_metro = np.unique(y_test)\n",
        "sns.heatmap(one_metro, square=True, annot=True, fmt='d', cbar=False,cmap='PuRd',xticklabels=one_names_metro, yticklabels=one_names_metro)\n",
        "plt.xlabel('Actual [Truth]')\n",
        "plt.ylabel('Predicted')\n",
        "plt.show()"
      ],
      "execution_count": 34,
      "outputs": [
        {
          "output_type": "stream",
          "text": [
            "(426, 30)\n",
            "0.9440559440559441\n"
          ],
          "name": "stdout"
        },
        {
          "output_type": "display_data",
          "data": {
            "image/png": "[encoded data removed]",
            "text/plain": [
              "<Figure size 432x288 with 1 Axes>"
            ]
          },
          "metadata": {
            "tags": []
          }
        }
      ]
    }
  ]
}