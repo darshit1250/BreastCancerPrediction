{
  "nbformat": 4,
  "nbformat_minor": 0,
  "metadata": {
    "colab": {
      "name": "Random_Forest_Breast_Cancer_Wisconsin.ipynb",
      "provenance": []
    },
    "kernelspec": {
      "name": "python3",
      "display_name": "Python 3"
    },
    "language_info": {
      "name": "python"
    }
  },
  "cells": [
    {
      "cell_type": "code",
      "metadata": {
        "colab": {
          "base_uri": "https://localhost:8080/",
          "height": 320
        },
        "id": "BsL1oaPpWyhL",
        "outputId": "985ac476-15c3-4c88-a8f7-17658941f02b"
      },
      "source": [
        "import pandas as pd\n",
        "import numpy as np\n",
        "from sklearn.model_selection import train_test_split\n",
        "from sklearn.ensemble import RandomForestClassifier\n",
        "from sklearn.datasets import load_breast_cancer\n",
        "from sklearn.metrics import confusion_matrix\n",
        "import seaborn as sns; sns.set()\n",
        "import matplotlib.pyplot as plt\n",
        "\n",
        "X, y = load_breast_cancer(return_X_y=True)\n",
        "\n",
        "X_train, X_test, y_train, y_test = train_test_split(X, y, test_size=0.25, random_state=47)\n",
        "print(X_train.shape)\n",
        "\n",
        "clf = RandomForestClassifier(random_state=42)\n",
        "clf.fit(X_train, y_train)\n",
        "rf_y_pred=clf.predict(X_test)\n",
        "pred_prob_rf = clf.predict_proba(X_test)\n",
        "print(clf.score(X_test, y_test))\n",
        "\n",
        "rf_metro = confusion_matrix(rf_y_pred, y_test)\n",
        "rf_names_metro = np.unique(y_test)\n",
        "sns.heatmap(rf_metro, square=True, annot=True, fmt='d', cbar=False, xticklabels= rf_names_metro, yticklabels=rf_names_metro)\n",
        "plt.xlabel('Actual [Truth]')\n",
        "plt.ylabel('Predicted')\n",
        "plt.show()"
      ],
      "execution_count": 3,
      "outputs": [
        {
          "output_type": "stream",
          "text": [
            "(426, 30)\n",
            "0.951048951048951\n"
          ],
          "name": "stdout"
        },
        {
          "output_type": "display_data",
          "data": {
            "image/png": "[encoded data removed]",
            "text/plain": [
              "<Figure size 432x288 with 1 Axes>"
            ]
          },
          "metadata": {
            "tags": []
          }
        }
      ]
    }
  ]
}